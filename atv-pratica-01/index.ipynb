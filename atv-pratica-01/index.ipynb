{
 "cells": [
  {
   "cell_type": "markdown",
   "metadata": {},
   "source": [
    "Baixando dependências"
   ]
  },
  {
   "cell_type": "code",
   "execution_count": 12,
   "metadata": {},
   "outputs": [
    {
     "name": "stdout",
     "output_type": "stream",
     "text": [
      "Requirement already satisfied: opencv-python in c:\\users\\angelus\\appdata\\local\\programs\\python\\python312\\lib\\site-packages (4.10.0.84)\n",
      "Requirement already satisfied: numpy>=1.21.2 in c:\\users\\angelus\\appdata\\local\\programs\\python\\python312\\lib\\site-packages (from opencv-python) (2.1.1)\n",
      "Requirement already satisfied: numpy in c:\\users\\angelus\\appdata\\local\\programs\\python\\python312\\lib\\site-packages (2.1.1)\n",
      "Requirement already satisfied: matplotlib in c:\\users\\angelus\\appdata\\local\\programs\\python\\python312\\lib\\site-packages (3.9.2)\n",
      "Requirement already satisfied: contourpy>=1.0.1 in c:\\users\\angelus\\appdata\\local\\programs\\python\\python312\\lib\\site-packages (from matplotlib) (1.3.0)\n",
      "Requirement already satisfied: cycler>=0.10 in c:\\users\\angelus\\appdata\\local\\programs\\python\\python312\\lib\\site-packages (from matplotlib) (0.12.1)\n",
      "Requirement already satisfied: fonttools>=4.22.0 in c:\\users\\angelus\\appdata\\local\\programs\\python\\python312\\lib\\site-packages (from matplotlib) (4.54.1)\n",
      "Requirement already satisfied: kiwisolver>=1.3.1 in c:\\users\\angelus\\appdata\\local\\programs\\python\\python312\\lib\\site-packages (from matplotlib) (1.4.7)\n",
      "Requirement already satisfied: numpy>=1.23 in c:\\users\\angelus\\appdata\\local\\programs\\python\\python312\\lib\\site-packages (from matplotlib) (2.1.1)\n",
      "Requirement already satisfied: packaging>=20.0 in c:\\users\\angelus\\appdata\\roaming\\python\\python312\\site-packages (from matplotlib) (24.1)\n",
      "Requirement already satisfied: pillow>=8 in c:\\users\\angelus\\appdata\\local\\programs\\python\\python312\\lib\\site-packages (from matplotlib) (10.4.0)\n",
      "Requirement already satisfied: pyparsing>=2.3.1 in c:\\users\\angelus\\appdata\\local\\programs\\python\\python312\\lib\\site-packages (from matplotlib) (3.1.4)\n",
      "Requirement already satisfied: python-dateutil>=2.7 in c:\\users\\angelus\\appdata\\roaming\\python\\python312\\site-packages (from matplotlib) (2.9.0.post0)\n",
      "Requirement already satisfied: six>=1.5 in c:\\users\\angelus\\appdata\\roaming\\python\\python312\\site-packages (from python-dateutil>=2.7->matplotlib) (1.16.0)\n"
     ]
    }
   ],
   "source": [
    "!pip install opencv-python\n",
    "!pip install numpy\n",
    "!pip install matplotlib"
   ]
  },
  {
   "cell_type": "markdown",
   "metadata": {},
   "source": [
    "Importando dependências para o projeto"
   ]
  },
  {
   "cell_type": "code",
   "execution_count": 17,
   "metadata": {},
   "outputs": [],
   "source": [
    "import cv2 as cv"
   ]
  },
  {
   "cell_type": "markdown",
   "metadata": {},
   "source": [
    "Função de player de vídeo:"
   ]
  },
  {
   "cell_type": "code",
   "execution_count": 14,
   "metadata": {},
   "outputs": [
    {
     "name": "stdout",
     "output_type": "stream",
     "text": [
      "Não pode receber frame. Finalizando...\n"
     ]
    }
   ],
   "source": [
    "captura = cv.VideoCapture('../videos/parkour.mp4')\n",
    "if not captura.isOpened():\n",
    "    print(\"Error ao abrir o arquivo de vídeo. Finalizando...\")\n",
    "    exit()\n",
    "\n",
    "while True:\n",
    "    ret, frame = captura.read()\n",
    "    if not ret:\n",
    "        print(\"Não pode receber frame. Finalizando...\")\n",
    "        break\n",
    "    # Mostra o frame capturado\n",
    "    cv.imshow('Frame', frame)\n",
    "    # Verifica se a tecla 'q' foi pressionada\n",
    "    if cv.waitKey(30) & 0xFF == ord('q'):\n",
    "        break\n",
    "    # Verifica se o botão de fechar (x) foi clicado\n",
    "    if cv.getWindowProperty('Frame', cv.WND_PROP_VISIBLE) < 1:\n",
    "        break\n",
    "    \n",
    "captura.release()\n",
    "cv.destroyAllWindows()\n"
   ]
  },
  {
   "cell_type": "code",
   "execution_count": 18,
   "metadata": {},
   "outputs": [],
   "source": [
    "\n",
    "def detectar_movimento(video_path):\n",
    "    captura = cv.VideoCapture(video_path)\n",
    "\n",
    "    if not captura.isOpened():\n",
    "        print(\"Erro ao abrir o vídeo.\")\n",
    "        return\n",
    "\n",
    "    # Lê o primeiro quadro do vídeo\n",
    "    ret, frame_anterior = captura.read()\n",
    "    if not ret:\n",
    "        print(\"Não foi possível ler o vídeo.\")\n",
    "        return\n",
    "\n",
    "    # Converte o primeiro quadro para escala de cinza\n",
    "    frame_anterior = cv.cvtColor(frame_anterior, cv.COLOR_BGR2GRAY)\n",
    "    frame_anterior = cv.GaussianBlur(frame_anterior, (21, 21), 0)\n",
    "\n",
    "    while True:\n",
    "        # Lê o próximo quadro\n",
    "        ret, frame_atual = captura.read()\n",
    "        if not ret:\n",
    "            break\n",
    "\n",
    "        # Converte o quadro atual para escala de cinza\n",
    "        frame_atual_gray = cv.cvtColor(frame_atual, cv.COLOR_BGR2GRAY)\n",
    "        frame_atual_gray = cv.GaussianBlur(frame_atual_gray, (21, 21), 0)\n",
    "\n",
    "        # Calcula a diferença absoluta entre o quadro atual e o anterior\n",
    "        diferenca = cv.absdiff(frame_anterior, frame_atual_gray)\n",
    "\n",
    "        # Aplica uma limiarização (threshold) para destacar áreas de movimento\n",
    "        _, limiar = cv.threshold(diferenca, 25, 255, cv.THRESH_BINARY)\n",
    "\n",
    "        # Dilata o resultado para cobrir buracos\n",
    "        limiar = cv.dilate(limiar, None, iterations=2)\n",
    "\n",
    "        # Encontra os contornos das áreas com movimento\n",
    "        contornos, _ = cv.findContours(limiar, cv.RETR_EXTERNAL, cv.CHAIN_APPROX_SIMPLE)\n",
    "\n",
    "        # Desenha retângulos ao redor dos contornos detectados\n",
    "        for contorno in contornos:\n",
    "            if cv.contourArea(contorno) < 500:  # Ignora pequenas áreas de movimento\n",
    "                continue\n",
    "            (x, y, w, h) = cv.boundingRect(contorno)\n",
    "            cv.rectangle(frame_atual, (x, y), (x + w, y + h), (0, 255, 0), 2)\n",
    "\n",
    "        # Exibe o quadro atual com as detecções de movimento\n",
    "        cv.imshow(\"Detecção de Movimento\", frame_atual)\n",
    "\n",
    "        # Atualiza o frame anterior para o próximo loop\n",
    "        frame_anterior = frame_atual_gray\n",
    "\n",
    "        # Sai do loop se a tecla 'q' for pressionada ou se a janela for fechada\n",
    "        if cv.waitKey(30) & 0xFF == ord('q') or cv.getWindowProperty('Detecção de Movimento', cv.WND_PROP_VISIBLE) < 1:\n",
    "            break\n",
    "\n",
    "    captura.release()\n",
    "    cv.destroyAllWindows()\n",
    "\n",
    "# Exemplo de uso da função\n",
    "detectar_movimento('../videos/parkour.mp4')\n"
   ]
  }
 ],
 "metadata": {
  "kernelspec": {
   "display_name": "Python 3",
   "language": "python",
   "name": "python3"
  },
  "language_info": {
   "codemirror_mode": {
    "name": "ipython",
    "version": 3
   },
   "file_extension": ".py",
   "mimetype": "text/x-python",
   "name": "python",
   "nbconvert_exporter": "python",
   "pygments_lexer": "ipython3",
   "version": "3.12.7"
  }
 },
 "nbformat": 4,
 "nbformat_minor": 2
}
