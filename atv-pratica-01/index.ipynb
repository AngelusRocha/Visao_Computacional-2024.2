{
 "cells": [
  {
   "cell_type": "markdown",
   "metadata": {},
   "source": [
    "Baixando dependências"
   ]
  },
  {
   "cell_type": "code",
   "execution_count": 1,
   "metadata": {},
   "outputs": [
    {
     "name": "stdout",
     "output_type": "stream",
     "text": [
      "Requirement already satisfied: opencv-python in c:\\users\\angelus\\appdata\\local\\programs\\python\\python312\\lib\\site-packages (4.10.0.84)\n",
      "Requirement already satisfied: numpy>=1.21.2 in c:\\users\\angelus\\appdata\\local\\programs\\python\\python312\\lib\\site-packages (from opencv-python) (2.1.1)\n",
      "Requirement already satisfied: numpy in c:\\users\\angelus\\appdata\\local\\programs\\python\\python312\\lib\\site-packages (2.1.1)\n",
      "Requirement already satisfied: matplotlib in c:\\users\\angelus\\appdata\\local\\programs\\python\\python312\\lib\\site-packages (3.9.2)\n",
      "Requirement already satisfied: contourpy>=1.0.1 in c:\\users\\angelus\\appdata\\local\\programs\\python\\python312\\lib\\site-packages (from matplotlib) (1.3.0)\n",
      "Requirement already satisfied: cycler>=0.10 in c:\\users\\angelus\\appdata\\local\\programs\\python\\python312\\lib\\site-packages (from matplotlib) (0.12.1)\n",
      "Requirement already satisfied: fonttools>=4.22.0 in c:\\users\\angelus\\appdata\\local\\programs\\python\\python312\\lib\\site-packages (from matplotlib) (4.54.1)\n",
      "Requirement already satisfied: kiwisolver>=1.3.1 in c:\\users\\angelus\\appdata\\local\\programs\\python\\python312\\lib\\site-packages (from matplotlib) (1.4.7)\n",
      "Requirement already satisfied: numpy>=1.23 in c:\\users\\angelus\\appdata\\local\\programs\\python\\python312\\lib\\site-packages (from matplotlib) (2.1.1)\n",
      "Requirement already satisfied: packaging>=20.0 in c:\\users\\angelus\\appdata\\roaming\\python\\python312\\site-packages (from matplotlib) (24.1)\n",
      "Requirement already satisfied: pillow>=8 in c:\\users\\angelus\\appdata\\local\\programs\\python\\python312\\lib\\site-packages (from matplotlib) (10.4.0)\n",
      "Requirement already satisfied: pyparsing>=2.3.1 in c:\\users\\angelus\\appdata\\local\\programs\\python\\python312\\lib\\site-packages (from matplotlib) (3.1.4)\n",
      "Requirement already satisfied: python-dateutil>=2.7 in c:\\users\\angelus\\appdata\\roaming\\python\\python312\\site-packages (from matplotlib) (2.9.0.post0)\n",
      "Requirement already satisfied: six>=1.5 in c:\\users\\angelus\\appdata\\roaming\\python\\python312\\site-packages (from python-dateutil>=2.7->matplotlib) (1.16.0)\n"
     ]
    }
   ],
   "source": [
    "!pip install opencv-python\n",
    "!pip install numpy\n",
    "!pip install matplotlib"
   ]
  },
  {
   "cell_type": "markdown",
   "metadata": {},
   "source": [
    "Importando dependências para o projeto"
   ]
  },
  {
   "cell_type": "code",
   "execution_count": 8,
   "metadata": {},
   "outputs": [],
   "source": [
    "import cv2 as cv\n",
    "import numpy as np\n",
    "import tkinter as tk"
   ]
  },
  {
   "cell_type": "markdown",
   "metadata": {},
   "source": [
    "Ajuste de Tela Automático"
   ]
  },
  {
   "cell_type": "code",
   "execution_count": 7,
   "metadata": {},
   "outputs": [],
   "source": [
    "def obter_resolucao():\n",
    "    # Cria uma instância da janela raiz do tkinter\n",
    "    root = tk.Tk()\n",
    "    \n",
    "    # Oculta a janela\n",
    "    root.withdraw()\n",
    "    \n",
    "    # Obtém a resolução da tela\n",
    "    largura_tela = root.winfo_screenwidth()\n",
    "    altura_tela = root.winfo_screenheight()\n",
    "    \n",
    "    return largura_tela, altura_tela"
   ]
  },
  {
   "cell_type": "markdown",
   "metadata": {},
   "source": [
    "Função de player de vídeo:"
   ]
  },
  {
   "cell_type": "code",
   "execution_count": 9,
   "metadata": {},
   "outputs": [],
   "source": [
    "def exibir_video(video_path):\n",
    "    captura = cv.VideoCapture(video_path)\n",
    "\n",
    "    largura, altura = obter_resolucao()\n",
    "\n",
    "    if not captura.isOpened():\n",
    "        print(\"Erro ao abrir o vídeo.\")\n",
    "        return\n",
    "\n",
    "    while True:\n",
    "        ret, frame = captura.read()\n",
    "        if not ret:\n",
    "            break\n",
    "\n",
    "        # Redimensiona o frame para caber na tela do notebook\n",
    "        frame_redimensionado = cv.resize(frame, (largura, altura))\n",
    "\n",
    "        cv.imshow(\"Resultado Final\", frame_redimensionado)\n",
    "        \n",
    "        if cv.waitKey(30) & 0xFF == ord('q'):  # Fecha a exibição se 'q' for pressionado\n",
    "            break\n",
    "\n",
    "    captura.release()\n",
    "    cv.destroyAllWindows()"
   ]
  },
  {
   "cell_type": "markdown",
   "metadata": {},
   "source": [
    "Função de Detecção de Movimento com Limiarização"
   ]
  },
  {
   "cell_type": "code",
   "execution_count": 10,
   "metadata": {},
   "outputs": [],
   "source": [
    "def processar_e_salvar_video(video_path, output_path, codec='XVID', fps=30):\n",
    "    captura = cv.VideoCapture(video_path)\n",
    "\n",
    "    # Verifica se o vídeo foi aberto corretamente\n",
    "    if not captura.isOpened():\n",
    "        print(\"Erro ao abrir o vídeo.\")\n",
    "        return False  # Retorna False em caso de falha\n",
    "\n",
    "    # Obtém as dimensões do vídeo\n",
    "    largura = int(captura.get(cv.CAP_PROP_FRAME_WIDTH))\n",
    "    altura = int(captura.get(cv.CAP_PROP_FRAME_HEIGHT))\n",
    "\n",
    "    # Define o codec e cria o objeto VideoWriter para salvar o vídeo\n",
    "    fourcc = cv.VideoWriter_fourcc(*codec)  # 'XVID' ou 'MJPG', por exemplo\n",
    "    escritor = cv.VideoWriter(output_path, fourcc, fps, (largura, altura))\n",
    "\n",
    "    # Lê o primeiro quadro do vídeo\n",
    "    ret, frame_anterior = captura.read()\n",
    "    if not ret:\n",
    "        print(\"Não foi possível ler o vídeo.\")\n",
    "        captura.release()\n",
    "        return False  # Retorna False em caso de falha\n",
    "\n",
    "    # Converte o primeiro quadro para escala de cinza\n",
    "    frame_anterior_gray = cv.cvtColor(frame_anterior, cv.COLOR_BGR2GRAY)\n",
    "    frame_anterior_gray = cv.GaussianBlur(frame_anterior_gray, (21, 21), 0)\n",
    "\n",
    "    while True:\n",
    "        # Lê o próximo quadro\n",
    "        ret, frame_atual = captura.read()\n",
    "        if not ret:\n",
    "            break\n",
    "\n",
    "        # Converte o quadro atual para escala de cinza\n",
    "        frame_atual_gray = cv.cvtColor(frame_atual, cv.COLOR_BGR2GRAY)\n",
    "        frame_atual_gray = cv.GaussianBlur(frame_atual_gray, (21, 21), 0)\n",
    "\n",
    "        # Calcula a diferença absoluta entre o quadro atual e o anterior\n",
    "        diferenca = cv.absdiff(frame_anterior_gray, frame_atual_gray)\n",
    "\n",
    "        # Aplica uma limiarização (threshold) para identificar mudanças significativas\n",
    "        _, limiar = cv.threshold(diferenca, 25, 255, cv.THRESH_BINARY)\n",
    "\n",
    "        # Cria uma imagem vermelha do mesmo tamanho do frame original\n",
    "        vermelho = np.zeros_like(frame_atual)\n",
    "        vermelho[:, :] = [0, 0, 255]  # Define cor vermelha para toda a imagem (BGR)\n",
    "\n",
    "        # Sobrepõe os pixels vermelhos nas áreas onde houve movimento\n",
    "        movimento = cv.bitwise_and(vermelho, vermelho, mask=limiar)\n",
    "\n",
    "        # Combina a imagem original com a sobreposição vermelha\n",
    "        resultado = cv.addWeighted(frame_atual, 1, movimento, 1, 0)\n",
    "\n",
    "        # Escreve o frame processado no arquivo de vídeo\n",
    "        escritor.write(resultado)\n",
    "\n",
    "        # Atualiza o frame anterior para o próximo loop\n",
    "        frame_anterior_gray = frame_atual_gray\n",
    "\n",
    "    # Libera os recursos após o processamento\n",
    "    captura.release()\n",
    "    escritor.release()\n",
    "\n",
    "    return True  # Retorna True se o processamento foi concluído com sucesso"
   ]
  },
  {
   "cell_type": "markdown",
   "metadata": {},
   "source": [
    "Função Principal"
   ]
  },
  {
   "cell_type": "code",
   "execution_count": 13,
   "metadata": {},
   "outputs": [
    {
     "name": "stdout",
     "output_type": "stream",
     "text": [
      "Vídeo processado e salvo com sucesso.\n"
     ]
    }
   ],
   "source": [
    "def main():\n",
    "    video_path = \"../videos/horizontal.mp4\"\n",
    "    output_path = \"../videos/videoOutput.mp4\"\n",
    "\n",
    "    # Processa e salva o vídeo em MP4\n",
    "    if processar_e_salvar_video(video_path, output_path, codec='mp4v', fps=60):\n",
    "        print(\"Vídeo processado e salvo com sucesso.\")\n",
    "    \n",
    "        # Exibe o vídeo processado com ajuste à tela do notebook\n",
    "        exibir_video(output_path)\n",
    "\n",
    "    else:\n",
    "        print(\"Falha ao processar o vídeo.\")\n",
    "\n",
    "if __name__ == \"__main__\":\n",
    "    main()"
   ]
  }
 ],
 "metadata": {
  "kernelspec": {
   "display_name": "Python 3",
   "language": "python",
   "name": "python3"
  },
  "language_info": {
   "codemirror_mode": {
    "name": "ipython",
    "version": 3
   },
   "file_extension": ".py",
   "mimetype": "text/x-python",
   "name": "python",
   "nbconvert_exporter": "python",
   "pygments_lexer": "ipython3",
   "version": "3.12.7"
  }
 },
 "nbformat": 4,
 "nbformat_minor": 2
}
